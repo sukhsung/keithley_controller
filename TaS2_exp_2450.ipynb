{
 "cells": [
  {
   "cell_type": "code",
   "execution_count": null,
   "metadata": {},
   "outputs": [],
   "source": [
    "import pyvisa\n",
    "\n",
    "rm = pyvisa.ResourceManager()\n",
    "rm.list_resources()"
   ]
  },
  {
   "cell_type": "code",
   "execution_count": null,
   "metadata": {
    "scrolled": true
   },
   "outputs": [],
   "source": [
    "import keithley_controller as kc\n",
    "import numpy as np\n",
    "import matplotlib.pyplot as plt\n",
    "\n",
    "ctrl = kc.hlab_2450(use_pyvisapy=False, verbose= True )\n",
    "ctrl.current_device()"
   ]
  },
  {
   "cell_type": "code",
   "execution_count": null,
   "metadata": {},
   "outputs": [],
   "source": [
    "# Run Simple Resistance Measurements\n",
    "\n",
    "(data, header) = ctrl.measure_resistance( FOUR_OR_TWO=\"2PT\", NUM_POINTS=1, INTERVAL=1, SOURCE_CURRENT= 0.00001, VOLTAGE_LIMIT=0.001, SENSE_RANGE=\"AUTO\", NUM_SAMPLES=1, NPLC=0.1 )\n",
    "#ctrl.query(\"ROUT:TERM?\\n\")\n",
    "savedir = \"data\"\n",
    "sample_name = \"TS1208\"\n",
    "experiment = \"Resistance\"\n",
    "#ctrl.save_as_csv( data, header, savedir, sample_name, experiment )"
   ]
  },
  {
   "cell_type": "code",
   "execution_count": null,
   "metadata": {
    "scrolled": true
   },
   "outputs": [],
   "source": [
    "# Run IV Current Sweep\n",
    "I_START = 1e-4\n",
    "I_END = 2e-4\n",
    "NUM_POINTS = 3\n",
    "CURRENTS = np.linspace( I_START, I_END, NUM_POINTS )\n",
    "\n",
    "(data, header) = ctrl.measure_IV_Sweep( SOURCE_TYPE=\"CURR\", SOURCE_VALUES=CURRENTS, FOUR_OR_TWO=\"2PT\", SOURCE_LIMIT=\"N/A\", SENSE_RANGE=\"AUTO\", INTERVAL=0.1, NUM_SAMPLES = 5, NPLC=0.01)\n",
    "savedir = \"data\"\n",
    "sample_name = \"TaS2_1013\"\n",
    "experiment = \"I_sweep_pad\"\n",
    "ctrl.save_as_csv( data, header, savedir, sample_name, experiment )\n",
    "\n",
    "data = np.array(data)\n",
    "plt.scatter(data[:,1],data[:,3])\n",
    "plt.show()"
   ]
  },
  {
   "cell_type": "code",
   "execution_count": null,
   "metadata": {
    "scrolled": false
   },
   "outputs": [],
   "source": [
    "# Run IV Voltage Sweep\n",
    "V_START = 0\n",
    "V_END = 1e-4\n",
    "NUM_POINTS = 10\n",
    "VOLTAGES = np.linspace( V_START, V_END, NUM_POINTS )\n",
    "\n",
    "(data, header) = ctrl.measure_IV_Sweep( SOURCE_TYPE=\"VOLT\", SOURCE_VALUES=VOLTAGES, FOUR_OR_TWO=\"2PT\", SOURCE_LIMIT=1e-4, SENSE_RANGE=\"AUTO\", INTERVAL=0.1, NUM_SAMPLES = NUM_POINTS, NPLC=0.001)\n",
    "savedir = \"data\"\n",
    "sample_name = \"TS1208\"\n",
    "experiment = \"V_sweep\"\n",
    "#ctrl.save_as_csv( data, header, savedir, sample_name, experiment )\n",
    "\n",
    "data = np.array(data)\n",
    "plt.scatter(data[:,1],data[:,3])\n",
    "plt.xlim(V_START, V_END)\n",
    "plt.ylim(np.min(data[:,3]), np.max(data[:,3]))\n",
    "plt.show()\n"
   ]
  },
  {
   "cell_type": "code",
   "execution_count": null,
   "metadata": {},
   "outputs": [],
   "source": [
    "#Continuous R measurement\n",
    "\n",
    "CURRENTS = 1e-5\n",
    "TEMP_INIT = 30\n",
    "TEMP_FINAL = 400\n",
    "\n",
    "(data, header) = ctrl.measure_R_cont( SOURCE_TYPE=\"CURR\", SOURCE_VALUE=CURRENTS, FOUR_OR_TWO=\"4PT\", HEATMINUTE = 15, SENSE_RANGE=\"AUTO\", NPLC=0.01)\n",
    "savedir = \"data\"\n",
    "sample_name = \"TS_1208\"\n",
    "\n",
    "experiment = \"ResCont_%dC_%dC\" %(TEMP_INIT, TEMP_FINAL)\n",
    "ctrl.save_as_csv( data, header, savedir, sample_name, experiment )\n"
   ]
  }
 ],
 "metadata": {
  "interpreter": {
   "hash": "66de90112d25f6a12b9fcd10453b5f60b18b798811ba8e9ddbd0a28fa73acc60"
  },
  "kernelspec": {
   "display_name": "Python 3",
   "language": "python",
   "name": "python3"
  },
  "language_info": {
   "codemirror_mode": {
    "name": "ipython",
    "version": 3
   },
   "file_extension": ".py",
   "mimetype": "text/x-python",
   "name": "python",
   "nbconvert_exporter": "python",
   "pygments_lexer": "ipython3",
   "version": "3.7.6"
  }
 },
 "nbformat": 4,
 "nbformat_minor": 2
}
