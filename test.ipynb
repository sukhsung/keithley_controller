{
 "metadata": {
  "language_info": {
   "codemirror_mode": {
    "name": "ipython",
    "version": 3
   },
   "file_extension": ".py",
   "mimetype": "text/x-python",
   "name": "python",
   "nbconvert_exporter": "python",
   "pygments_lexer": "ipython3",
   "version": "3.7.10"
  },
  "orig_nbformat": 4,
  "kernelspec": {
   "name": "python3",
   "display_name": "Python 3.7.10 64-bit ('pyEnv': venv)"
  },
  "interpreter": {
   "hash": "68122c9af2dfc6b03090720c587ba8a25074c04a36f3d45b1f97782eb98e0e40"
  }
 },
 "nbformat": 4,
 "nbformat_minor": 2,
 "cells": [
  {
   "cell_type": "code",
   "execution_count": 5,
   "metadata": {},
   "outputs": [],
   "source": [
    "import controller as ctrl\n",
    "\n",
    "c = ctrl.hlab_2110(verbose=True)\n",
    "c.current_device()"
   ]
  },
  {
   "cell_type": "code",
   "execution_count": 3,
   "metadata": {},
   "outputs": [
    {
     "output_type": "stream",
     "name": "stdout",
     "text": [
      "    FUNC \"RES\"\n    RES:RANG:AUTO ON\n    READ?\n+8.30223571E+02\n\n"
     ]
    }
   ],
   "source": [
    "FOUR_OR_TWO = 2\n",
    "d = c.measure_resistance( FOUR_OR_TWO, RESISTANCE_RANGE='AUTO' )\n",
    "print(d)"
   ]
  },
  {
   "cell_type": "code",
   "execution_count": 11,
   "metadata": {},
   "outputs": [
    {
     "output_type": "stream",
     "name": "stdout",
     "text": [
      "    FUNC \"CAP\"\n",
      "    CAP:RANG:AUTO ON\n",
      "    READ?\n",
      "+9.93858047E-05\n",
      "\n"
     ]
    }
   ],
   "source": [
    "d = c.measure_capacitance( CAPACITANCE_RANGE='AUTO' )\n",
    "print(d)"
   ]
  },
  {
   "cell_type": "code",
   "execution_count": null,
   "metadata": {},
   "outputs": [],
   "source": []
  }
 ]
}