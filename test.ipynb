{
 "metadata": {
  "language_info": {
   "codemirror_mode": {
    "name": "ipython",
    "version": 3
   },
   "file_extension": ".py",
   "mimetype": "text/x-python",
   "name": "python",
   "nbconvert_exporter": "python",
   "pygments_lexer": "ipython3",
   "version": "3.8.8"
  },
  "orig_nbformat": 4,
  "kernelspec": {
   "name": "python3",
   "display_name": "Python 3.8.8 64-bit ('pyEnv': venv)"
  },
  "interpreter": {
   "hash": "68122c9af2dfc6b03090720c587ba8a25074c04a36f3d45b1f97782eb98e0e40"
  }
 },
 "nbformat": 4,
 "nbformat_minor": 2,
 "cells": [
  {
   "cell_type": "code",
   "execution_count": 5,
   "metadata": {},
   "outputs": [],
   "source": [
    "import keithley_controller as kc\n",
    "\n",
    "ctrl = kc.hlab_2110( verbose=True )\n",
    "ctrl.current_device()"
   ]
  },
  {
   "cell_type": "code",
   "execution_count": 3,
   "metadata": {},
   "outputs": [
    {
     "output_type": "stream",
     "name": "stdout",
     "text": [
      "    FUNC \"RES\"\n    RES:RANG:AUTO ON\n    READ?\n+8.30223571E+02\n\n"
     ]
    }
   ],
   "source": [
    "FOUR_OR_TWO = \"2PT\" # \"4pt\" or \"2pt\"\n",
    "RESISTANCE_RANGE = \"AUTO\" # resistance range in ohm or \"AUTO\" for automatic ranging\n",
    "NUM_POINTS = 10 # Number of Measurements\n",
    "INTERVAL = 0.1 # Interval between measurements\n",
    "\n",
    "(data, header) = ctrl.measure_resistance( FOUR_OR_TWO, RESISTANCE_RANGE='AUTO', NUM_POINTS, INTERVAL)\n",
    "# ctrl.measurement_voltage( AC_OR_DC=\"DC\", VOLTAGE_RANGE=\"AUTO\", NUM_POINTS=1, INTERVAL=0.1 )\n",
    "# ctrl.measurement_current( AC_OR_DC=\"DC\", CURRENT_RANGE=\"AUTO\", NUM_POINTS=1, INTERVAL=0.1 )\n",
    "# ctrl.measurment_capacitance( CAPACITANCE_RANGE='AUTO', NUM_POINTS=1, INTERVAL=0.1 ):\n",
    "\n",
    "savedir = \"data\"\n",
    "sample_name = \"test_2110\"\n",
    "experiment = \"4pt\"\n",
    "\n",
    "ctrl.save_as_csv( data, header, savedir, sample_name, experiment )"
   ]
  },
  {
   "cell_type": "code",
   "execution_count": 12,
   "metadata": {},
   "outputs": [
    {
     "output_type": "execute_result",
     "data": {
      "text/plain": [
       "5"
      ]
     },
     "metadata": {},
     "execution_count": 12
    }
   ],
   "source": [
    "a = [ 1, 2, -3]\n",
    "\n",
    "b = [0.1, 1,5, 30]\n",
    "\n",
    "import numpy as np\n",
    "a = np.max(np.abs(a))\n",
    "\n",
    "min(filter(lambda x: x > a, b))\n"
   ]
  },
  {
   "cell_type": "code",
   "execution_count": null,
   "metadata": {},
   "outputs": [],
   "source": []
  }
 ]
}