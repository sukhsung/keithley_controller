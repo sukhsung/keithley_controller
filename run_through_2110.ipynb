{
 "metadata": {
  "language_info": {
   "codemirror_mode": {
    "name": "ipython",
    "version": 3
   },
   "file_extension": ".py",
   "mimetype": "text/x-python",
   "name": "python",
   "nbconvert_exporter": "python",
   "pygments_lexer": "ipython3",
   "version": "3.7.10"
  },
  "orig_nbformat": 4,
  "kernelspec": {
   "name": "python3",
   "display_name": "Python 3.7.10 64-bit ('pyEnv': venv)"
  },
  "interpreter": {
   "hash": "68122c9af2dfc6b03090720c587ba8a25074c04a36f3d45b1f97782eb98e0e40"
  }
 },
 "nbformat": 4,
 "nbformat_minor": 2,
 "cells": [
  {
   "cell_type": "code",
   "execution_count": 1,
   "metadata": {},
   "outputs": [
    {
     "output_type": "stream",
     "name": "stdout",
     "text": [
      "Using pyvisa-py backend\n\nResetting...\n    *RST; :STAT:PRES; *CLS\n    :OUTP OFF\n    :SYST:BEEP 500,0.2\n\n\n    *IDN?\nKEITHLEY INSTRUMENTS INC.,MODEL 2110,8011648,02.02-02-01\n\n"
     ]
    }
   ],
   "source": [
    "import keithley_controller as kc\n",
    "\n",
    "ctrl = kc.hlab_2110( verbose= True )\n",
    "ctrl.current_device()"
   ]
  },
  {
   "cell_type": "code",
   "execution_count": 4,
   "metadata": {},
   "outputs": [
    {
     "output_type": "stream",
     "name": "stdout",
     "text": [
      "    FUNC \"FRES\"\n",
      "    FRES:RANG:AUTO ON\n",
      "[Time (s),Resistance (Ohm)]\n",
      "    INIT\n",
      "    FETC?\n",
      "[9.5367431640625e-07, 220.195907]\n",
      "    FETC?\n",
      "[0.2774472236633301, 220.195907]\n",
      "    FETC?\n",
      "[0.3837900161743164, 220.195907]\n",
      "    FETC?\n",
      "[0.49051904678344727, 220.195907]\n",
      "    FETC?\n",
      "[0.5926640033721924, 220.195907]\n",
      "    FETC?\n",
      "[0.7000272274017334, 220.195907]\n",
      "    FETC?\n",
      "[0.8044111728668213, 220.195907]\n",
      "    FETC?\n",
      "[0.9101459980010986, 220.195907]\n",
      "    FETC?\n",
      "[1.015712022781372, 220.195907]\n",
      "    FETC?\n",
      "[1.121387004852295, 220.195907]\n",
      "Data saved as data/test_2110/2039_test_.csv\n"
     ]
    }
   ],
   "source": [
    "MEASUREMENT_TYPE = \"CAP\" #  [\"VOLT\", \"VOLT:DC\", \"VOLT:AC\", \"CURR\", \"CURR:DC\", \"CURR:AC\", \"RES\", \"RES_2PT\", \"RES_4PT\", \"CAP\"]\n",
    "# VOLT == VOLT:DC, CURR == CURR:DC, RES == RES_2PT\n",
    "\n",
    "MEASUREMENT_RANGE = \"AUTO\" # Specificy measurement Range or \"AUTO\" for automatic ranging\n",
    "\n",
    "NUM_POINTS = 10 # Number of Measurements\n",
    "INTERVAL = 0.1 # Interval between measurements (approximate)\n",
    "\n",
    "(data, header) = ctrl.do_measurement( MEASUREMENT_TYPE, MEASUREMENT_RANGE=MEASUREMENT_RANGE, NUM_POINTS=10, INTERVAL=0.1 )\n",
    "\n",
    "savedir = \"data\"\n",
    "sample_name = \"test_2110\"\n",
    "experiment = \"test\"\n",
    "ctrl.save_as_csv( data, header, savedir, sample_name, experiment )"
   ]
  },
  {
   "cell_type": "code",
   "execution_count": null,
   "metadata": {},
   "outputs": [],
   "source": []
  }
 ]
}